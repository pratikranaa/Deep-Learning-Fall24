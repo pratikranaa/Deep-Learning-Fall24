{
 "cells": [
  {
   "cell_type": "markdown",
   "id": "2611d0db",
   "metadata": {},
   "source": [
    "# Task 1\n",
    "#### Create a 1D tensor with 12 elements ranging from 0 to 11 using torch.arange."
   ]
  },
  {
   "cell_type": "code",
   "execution_count": 77,
   "id": "5b9210f0-e644-44bc-b67f-030f3ba80a27",
   "metadata": {},
   "outputs": [
    {
     "data": {
      "text/plain": [
       "tensor([ 0,  1,  2,  3,  4,  5,  6,  7,  8,  9, 10, 11])"
      ]
     },
     "execution_count": 77,
     "metadata": {},
     "output_type": "execute_result"
    }
   ],
   "source": [
    "import torch\n",
    "import matplotlib.pyplot as plt\n",
    "import numpy as np\n",
    "import pandas as pd\n",
    "\n",
    "\n",
    "tensor_1d = torch.arange(0, 12)\n",
    "tensor_1d"
   ]
  },
  {
   "cell_type": "markdown",
   "id": "548f167a",
   "metadata": {},
   "source": [
    "#### Check the shape of the tensor and the number of elements it contains using the .shape and .numel() methods."
   ]
  },
  {
   "cell_type": "code",
   "execution_count": 3,
   "id": "1cd78d2a",
   "metadata": {},
   "outputs": [
    {
     "name": "stdout",
     "output_type": "stream",
     "text": [
      "torch.Size([12])\n",
      "12\n"
     ]
    }
   ],
   "source": [
    "print(tensor_1d.shape)  \n",
    "print(tensor_1d.numel())\n"
   ]
  },
  {
   "cell_type": "markdown",
   "id": "9f14bfb0",
   "metadata": {},
   "source": [
    "#### Modify the tensor to be of type float32 and verify the change by checking the tensor’s data type.\n",
    "\n"
   ]
  },
  {
   "cell_type": "code",
   "execution_count": 4,
   "id": "cb023570",
   "metadata": {},
   "outputs": [
    {
     "name": "stdout",
     "output_type": "stream",
     "text": [
      "torch.float32\n"
     ]
    }
   ],
   "source": [
    "tensor_1d = tensor_1d.float()\n",
    "print(tensor_1d.dtype)"
   ]
  },
  {
   "cell_type": "markdown",
   "id": "2781e89f",
   "metadata": {},
   "source": [
    "# Task 2\n"
   ]
  },
  {
   "cell_type": "markdown",
   "id": "52898347",
   "metadata": {},
   "source": [
    "#### Reshape the 1D tensor created in Task 1 into a 2D tensor with 3 rows and 4 columns.\n",
    "\n"
   ]
  },
  {
   "cell_type": "code",
   "execution_count": 6,
   "id": "ff48a22e",
   "metadata": {},
   "outputs": [
    {
     "data": {
      "text/plain": [
       "tensor([[ 0.,  1.,  2.,  3.],\n",
       "        [ 4.,  5.,  6.,  7.],\n",
       "        [ 8.,  9., 10., 11.]])"
      ]
     },
     "execution_count": 6,
     "metadata": {},
     "output_type": "execute_result"
    }
   ],
   "source": [
    "tensor_2d = tensor_1d.view(3, 4)\n",
    "tensor_2d"
   ]
  },
  {
   "cell_type": "markdown",
   "id": "b833b7fc",
   "metadata": {},
   "source": [
    "#### Verify the new shape of the tensor using the .shape attribute.\n",
    "\n"
   ]
  },
  {
   "cell_type": "code",
   "execution_count": 7,
   "id": "c61dfb41",
   "metadata": {},
   "outputs": [
    {
     "name": "stdout",
     "output_type": "stream",
     "text": [
      "torch.Size([3, 4])\n"
     ]
    }
   ],
   "source": [
    "print(tensor_2d.shape)"
   ]
  },
  {
   "cell_type": "markdown",
   "id": "56edcd66",
   "metadata": {},
   "source": [
    "#### Reshape the tensor again into a 3D tensor with dimensions (2, 2, 3) and print the result.\n",
    "\n"
   ]
  },
  {
   "cell_type": "code",
   "execution_count": 8,
   "id": "516d4d57",
   "metadata": {},
   "outputs": [
    {
     "name": "stdout",
     "output_type": "stream",
     "text": [
      "tensor([[[ 0.,  1.,  2.],\n",
      "         [ 3.,  4.,  5.]],\n",
      "\n",
      "        [[ 6.,  7.,  8.],\n",
      "         [ 9., 10., 11.]]])\n"
     ]
    }
   ],
   "source": [
    "tensor_3d = tensor_2d.view(2, 2, 3)\n",
    "print(tensor_3d)\n"
   ]
  },
  {
   "cell_type": "markdown",
   "id": "0b560138",
   "metadata": {},
   "source": [
    "# Task 3\n",
    "\n",
    "#### Create a new tensor filled with ones that has the same shape as the tensor created in Task 2."
   ]
  },
  {
   "cell_type": "code",
   "execution_count": 9,
   "id": "c0e02e38",
   "metadata": {},
   "outputs": [],
   "source": [
    "tensor_ones = torch.ones_like(tensor_2d)\n"
   ]
  },
  {
   "cell_type": "code",
   "execution_count": 10,
   "id": "019a6ac0",
   "metadata": {},
   "outputs": [
    {
     "data": {
      "text/plain": [
       "tensor([[1., 1., 1., 1.],\n",
       "        [1., 1., 1., 1.],\n",
       "        [1., 1., 1., 1.]])"
      ]
     },
     "execution_count": 10,
     "metadata": {},
     "output_type": "execute_result"
    }
   ],
   "source": [
    "tensor_ones"
   ]
  },
  {
   "cell_type": "markdown",
   "id": "0a7fb418",
   "metadata": {},
   "source": [
    "#### Add the tensor of ones to the reshaped tensor from Task 2 and print the result.\n"
   ]
  },
  {
   "cell_type": "code",
   "execution_count": 11,
   "id": "60216c45",
   "metadata": {},
   "outputs": [
    {
     "name": "stdout",
     "output_type": "stream",
     "text": [
      "tensor([[ 1.,  2.,  3.,  4.],\n",
      "        [ 5.,  6.,  7.,  8.],\n",
      "        [ 9., 10., 11., 12.]])\n"
     ]
    }
   ],
   "source": [
    "result_add = tensor_2d + tensor_ones\n",
    "print(result_add)\n"
   ]
  },
  {
   "cell_type": "markdown",
   "id": "69ed21ff",
   "metadata": {},
   "source": [
    "#### Multiply the reshaped tensor by 2 and print the result.\n"
   ]
  },
  {
   "cell_type": "code",
   "execution_count": 12,
   "id": "0cff6194",
   "metadata": {},
   "outputs": [
    {
     "name": "stdout",
     "output_type": "stream",
     "text": [
      "tensor([[ 0.,  2.,  4.,  6.],\n",
      "        [ 8., 10., 12., 14.],\n",
      "        [16., 18., 20., 22.]])\n"
     ]
    }
   ],
   "source": [
    "result_mul = tensor_2d * 2\n",
    "print(result_mul)\n"
   ]
  },
  {
   "cell_type": "markdown",
   "id": "c991fb8f",
   "metadata": {},
   "source": [
    "#### Calculate the mean of the elements in the reshaped tensor.\n",
    "\n"
   ]
  },
  {
   "cell_type": "code",
   "execution_count": 14,
   "id": "698ab48f",
   "metadata": {},
   "outputs": [
    {
     "name": "stdout",
     "output_type": "stream",
     "text": [
      "tensor(5.5000)\n"
     ]
    }
   ],
   "source": [
    "mean_val = tensor_2d.mean()\n",
    "print(mean_val)\n"
   ]
  },
  {
   "cell_type": "markdown",
   "id": "f83c09bf",
   "metadata": {},
   "source": [
    "# Task 4\n",
    "\n",
    "#### Slice the reshaped tensor to extract the first row.\n",
    "\n",
    "\n"
   ]
  },
  {
   "cell_type": "code",
   "execution_count": 15,
   "id": "c9a0b4ad",
   "metadata": {},
   "outputs": [
    {
     "name": "stdout",
     "output_type": "stream",
     "text": [
      "tensor([0., 1., 2., 3.])\n"
     ]
    }
   ],
   "source": [
    "first_row = tensor_2d[0, :]\n",
    "print(first_row)\n"
   ]
  },
  {
   "cell_type": "markdown",
   "id": "e2204489",
   "metadata": {},
   "source": [
    "#### Extract the last column of the reshaped tensor.\n"
   ]
  },
  {
   "cell_type": "code",
   "execution_count": 16,
   "id": "52b4e560",
   "metadata": {},
   "outputs": [
    {
     "name": "stdout",
     "output_type": "stream",
     "text": [
      "tensor([ 3.,  7., 11.])\n"
     ]
    }
   ],
   "source": [
    "last_column = tensor_2d[:, -1]\n",
    "print(last_column)\n"
   ]
  },
  {
   "cell_type": "markdown",
   "id": "c2f86fba",
   "metadata": {},
   "source": [
    "#### Modify the sliced portion by setting all its values to 10 and observe how the original tensor changes.\n",
    "\n"
   ]
  },
  {
   "cell_type": "code",
   "execution_count": 17,
   "id": "5126980d",
   "metadata": {},
   "outputs": [
    {
     "name": "stdout",
     "output_type": "stream",
     "text": [
      "tensor([[10., 10., 10., 10.],\n",
      "        [ 4.,  5.,  6.,  7.],\n",
      "        [ 8.,  9., 10., 11.]])\n"
     ]
    }
   ],
   "source": [
    "tensor_2d[0, :] = 10\n",
    "print(tensor_2d)\n"
   ]
  },
  {
   "cell_type": "markdown",
   "id": "a82195db",
   "metadata": {},
   "source": [
    "# Task 5\n",
    "\n",
    "#### Convert the reshaped tensor from Task 2 into a NumPy array using the .numpy() method.\n",
    "\n"
   ]
  },
  {
   "cell_type": "code",
   "execution_count": 18,
   "id": "0f6aa731",
   "metadata": {},
   "outputs": [],
   "source": [
    "numpy_array = tensor_2d.numpy()\n"
   ]
  },
  {
   "cell_type": "markdown",
   "id": "c2f36435",
   "metadata": {},
   "source": [
    "#### Perform an element-wise addition on the NumPy array.\n",
    "\n"
   ]
  },
  {
   "cell_type": "code",
   "execution_count": 19,
   "id": "f9bff7bd",
   "metadata": {},
   "outputs": [],
   "source": [
    "numpy_array += 1\n"
   ]
  },
  {
   "cell_type": "markdown",
   "id": "af013f04",
   "metadata": {},
   "source": [
    "#### Convert the modified NumPy array back to a PyTorch tensor and verify its data type and shape.\n",
    "\n"
   ]
  },
  {
   "cell_type": "code",
   "execution_count": 20,
   "id": "dcd6c5f2",
   "metadata": {},
   "outputs": [
    {
     "name": "stdout",
     "output_type": "stream",
     "text": [
      "torch.float32\n",
      "torch.Size([3, 4])\n"
     ]
    }
   ],
   "source": [
    "tensor_from_numpy = torch.tensor(numpy_array)\n",
    "print(tensor_from_numpy.dtype)\n",
    "print(tensor_from_numpy.shape)  \n"
   ]
  },
  {
   "cell_type": "markdown",
   "id": "46852be0",
   "metadata": {},
   "source": [
    "# Task 6\n",
    "\n",
    "\n",
    "#### Create a CSV file named house_tiny.csv with the specified columns and data.\n",
    "\n",
    "#### Load the CSV file into a Pandas DataFrame using the pd.read_csv() function."
   ]
  },
  {
   "cell_type": "code",
   "execution_count": 70,
   "id": "f52fad7b",
   "metadata": {},
   "outputs": [],
   "source": [
    "df = pd.read_csv('house_tiny.csv')\n"
   ]
  },
  {
   "cell_type": "markdown",
   "id": "ec033118",
   "metadata": {},
   "source": [
    "#### Perform one-hot encoding on the RoofType column, treating NaN as a separate category using pd.get_dummies().\n",
    "\n"
   ]
  },
  {
   "cell_type": "code",
   "execution_count": 71,
   "id": "75503a84",
   "metadata": {},
   "outputs": [],
   "source": [
    "df = pd.get_dummies(df, columns=['RoofType'], dummy_na=True)\n"
   ]
  },
  {
   "cell_type": "markdown",
   "id": "cb17b53c",
   "metadata": {},
   "source": [
    "#### Replace the NaN entries in the NumRooms column with the mean value of that column using .fillna().\n",
    "\n"
   ]
  },
  {
   "cell_type": "code",
   "execution_count": 74,
   "id": "49fe56c9",
   "metadata": {},
   "outputs": [
    {
     "data": {
      "text/html": [
       "<div>\n",
       "<style scoped>\n",
       "    .dataframe tbody tr th:only-of-type {\n",
       "        vertical-align: middle;\n",
       "    }\n",
       "\n",
       "    .dataframe tbody tr th {\n",
       "        vertical-align: top;\n",
       "    }\n",
       "\n",
       "    .dataframe thead th {\n",
       "        text-align: right;\n",
       "    }\n",
       "</style>\n",
       "<table border=\"1\" class=\"dataframe\">\n",
       "  <thead>\n",
       "    <tr style=\"text-align: right;\">\n",
       "      <th></th>\n",
       "      <th>NumRooms</th>\n",
       "      <th>Price</th>\n",
       "      <th>RoofType_Slate</th>\n",
       "      <th>RoofType_nan</th>\n",
       "    </tr>\n",
       "  </thead>\n",
       "  <tbody>\n",
       "    <tr>\n",
       "      <th>0</th>\n",
       "      <td>3.0</td>\n",
       "      <td>127500</td>\n",
       "      <td>0</td>\n",
       "      <td>1</td>\n",
       "    </tr>\n",
       "    <tr>\n",
       "      <th>1</th>\n",
       "      <td>2.0</td>\n",
       "      <td>106000</td>\n",
       "      <td>0</td>\n",
       "      <td>1</td>\n",
       "    </tr>\n",
       "    <tr>\n",
       "      <th>2</th>\n",
       "      <td>4.0</td>\n",
       "      <td>178100</td>\n",
       "      <td>1</td>\n",
       "      <td>0</td>\n",
       "    </tr>\n",
       "    <tr>\n",
       "      <th>3</th>\n",
       "      <td>3.0</td>\n",
       "      <td>140000</td>\n",
       "      <td>0</td>\n",
       "      <td>1</td>\n",
       "    </tr>\n",
       "  </tbody>\n",
       "</table>\n",
       "</div>"
      ],
      "text/plain": [
       "   NumRooms   Price  RoofType_Slate  RoofType_nan\n",
       "0       3.0  127500               0             1\n",
       "1       2.0  106000               0             1\n",
       "2       4.0  178100               1             0\n",
       "3       3.0  140000               0             1"
      ]
     },
     "execution_count": 74,
     "metadata": {},
     "output_type": "execute_result"
    }
   ],
   "source": [
    "df['NumRooms'].fillna(df['NumRooms'].mean(), inplace=True)\n",
    "# df['NumRooms'] = df['NumRooms'].astype('float32')\n",
    "\n",
    "df['RoofType_Slate'] = df['RoofType_Slate'].astype(int)\n",
    "df['RoofType_nan'] = df['RoofType_nan'].astype(int)\n",
    "df\n",
    "\n"
   ]
  },
  {
   "cell_type": "markdown",
   "id": "d910f6d1",
   "metadata": {},
   "source": [
    "#### Convert the resulting DataFrame into a PyTorch tensor using torch.tensor().\n",
    "\n"
   ]
  },
  {
   "cell_type": "code",
   "execution_count": 75,
   "id": "78a501bb",
   "metadata": {},
   "outputs": [],
   "source": [
    "tensor_from_df = torch.tensor(df.values, dtype=torch.float32)\n"
   ]
  },
  {
   "cell_type": "code",
   "execution_count": 76,
   "id": "da571099",
   "metadata": {},
   "outputs": [
    {
     "data": {
      "text/plain": [
       "tensor([[3.0000e+00, 1.2750e+05, 0.0000e+00, 1.0000e+00],\n",
       "        [2.0000e+00, 1.0600e+05, 0.0000e+00, 1.0000e+00],\n",
       "        [4.0000e+00, 1.7810e+05, 1.0000e+00, 0.0000e+00],\n",
       "        [3.0000e+00, 1.4000e+05, 0.0000e+00, 1.0000e+00]])"
      ]
     },
     "execution_count": 76,
     "metadata": {},
     "output_type": "execute_result"
    }
   ],
   "source": [
    "tensor_from_df"
   ]
  },
  {
   "cell_type": "markdown",
   "id": "ebc50e09",
   "metadata": {},
   "source": [
    "# Task 7\n",
    "\n",
    "#### Create a 3×3 matrix A with the specified elements."
   ]
  },
  {
   "cell_type": "code",
   "execution_count": 47,
   "id": "e2af611b",
   "metadata": {},
   "outputs": [],
   "source": [
    "A = torch.tensor([[1, 2, 3], [2, 4, 5], [3, 5, 6]])\n"
   ]
  },
  {
   "cell_type": "markdown",
   "id": "272a8289",
   "metadata": {},
   "source": [
    "#### Compute the transpose of the matrix A.\n",
    "\n"
   ]
  },
  {
   "cell_type": "code",
   "execution_count": 48,
   "id": "ffa66ef0",
   "metadata": {},
   "outputs": [],
   "source": [
    "A_T = A.t()\n"
   ]
  },
  {
   "cell_type": "markdown",
   "id": "6178611b",
   "metadata": {},
   "source": [
    "#### Verify if the matrix A is symmetric by checking if A is equal to its transpose.\n",
    "\n"
   ]
  },
  {
   "cell_type": "code",
   "execution_count": 49,
   "id": "29cfc198",
   "metadata": {},
   "outputs": [
    {
     "name": "stdout",
     "output_type": "stream",
     "text": [
      "True\n"
     ]
    }
   ],
   "source": [
    "is_symmetric = torch.equal(A, A_T)\n",
    "print(is_symmetric)\n"
   ]
  },
  {
   "cell_type": "markdown",
   "id": "cffd9692",
   "metadata": {},
   "source": [
    "#### Create a non-symmetric 3×3 matrix and demonstrate that it is not equal to its transpose.\n",
    "\n"
   ]
  },
  {
   "cell_type": "code",
   "execution_count": 50,
   "id": "82bae234",
   "metadata": {},
   "outputs": [
    {
     "name": "stdout",
     "output_type": "stream",
     "text": [
      "False\n"
     ]
    }
   ],
   "source": [
    "B = torch.tensor([[1, 2, 3], [4, 5, 6], [7, 8, 9]])\n",
    "is_symmetric_B = torch.equal(B, B.t())\n",
    "print(is_symmetric_B)"
   ]
  },
  {
   "cell_type": "markdown",
   "id": "6e9b6f04",
   "metadata": {},
   "source": [
    "# Task 8\n",
    "\n",
    "#### Given the function h(x) = 3x^3 - 2x^2 + 5x - 7\n",
    "\n",
    "#### Define the function h(x) and its derivative h'(x) in Python."
   ]
  },
  {
   "cell_type": "code",
   "execution_count": 51,
   "id": "83636ccd",
   "metadata": {},
   "outputs": [],
   "source": [
    "def h(x):\n",
    "    return 3*x**3 - 2*x**2 + 5*x - 7\n",
    "\n",
    "def h_prime(x):\n",
    "    return 9*x**2 - 4*x + 5\n"
   ]
  },
  {
   "cell_type": "markdown",
   "id": "5b425158",
   "metadata": {},
   "source": [
    "#### Evaluate the derivative at x = 1 and x = 2.\n",
    "\n"
   ]
  },
  {
   "cell_type": "code",
   "execution_count": 52,
   "id": "7283bceb",
   "metadata": {},
   "outputs": [
    {
     "name": "stdout",
     "output_type": "stream",
     "text": [
      "10\n",
      "33\n"
     ]
    }
   ],
   "source": [
    "print(h_prime(1))\n",
    "print(h_prime(2))  "
   ]
  },
  {
   "cell_type": "markdown",
   "id": "2927a6e3",
   "metadata": {},
   "source": [
    "#### Plot the original function h(x) and its derivative h'(x) over the range x = -2 to x = 3.\n",
    "\n"
   ]
  },
  {
   "cell_type": "code",
   "execution_count": 53,
   "id": "721e84f8",
   "metadata": {},
   "outputs": [
    {
     "data": {
      "image/png": "[encoded data removed]",
      "text/plain": [
       "<Figure size 640x480 with 1 Axes>"
      ]
     },
     "metadata": {},
     "output_type": "display_data"
    }
   ],
   "source": [
    "x = np.linspace(-2, 3, 100)\n",
    "y = h(x)\n",
    "y_prime = h_prime(x)\n",
    "\n",
    "plt.plot(x, y, label='h(x)')\n",
    "plt.plot(x, y_prime, label=\"h'(x)\", linestyle='--')\n",
    "plt.legend()\n",
    "plt.show()\n"
   ]
  }
 ],
 "metadata": {
  "kernelspec": {
   "display_name": "pratik",
   "language": "python",
   "name": "python3"
  },
  "language_info": {
   "codemirror_mode": {
    "name": "ipython",
    "version": 3
   },
   "file_extension": ".py",
   "mimetype": "text/x-python",
   "name": "python",
   "nbconvert_exporter": "python",
   "pygments_lexer": "ipython3",
   "version": "3.10.12"
  }
 },
 "nbformat": 4,
 "nbformat_minor": 5
}
